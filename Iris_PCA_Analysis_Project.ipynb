{
 "cells": [
  {
   "cell_type": "markdown",
   "id": "b8eb9acd",
   "metadata": {},
   "source": [
    "# Iris Dataset - PCA Analysis\n",
    "This notebook demonstrates **Principal Component Analysis (PCA)**,  \n",
    "a dimensionality reduction technique often used in Machine Learning.  \n",
    "\n",
    "The dataset used is the classic **Iris dataset**.  \n",
    "Goal: reduce 4 features into 2 principal components for visualization."
   ]
  },
  {
   "cell_type": "code",
   "execution_count": null,
   "id": "60ec4347",
   "metadata": {},
   "outputs": [],
   "source": [
    "# Import libraries\n",
    "import numpy as np\n",
    "import matplotlib.pyplot as plt\n",
    "from sklearn.datasets import load_iris\n",
    "from sklearn.preprocessing import StandardScaler\n",
    "from sklearn.decomposition import PCA\n",
    "\n",
    "# Load dataset\n",
    "iris = load_iris()\n",
    "X = iris.data\n",
    "y = iris.target\n",
    "target_names = iris.target_names\n",
    "\n",
    "# Standardize features\n",
    "X_scaled = StandardScaler().fit_transform(X)\n",
    "\n",
    "# Apply PCA\n",
    "pca = PCA(n_components=2)\n",
    "X_pca = pca.fit_transform(X_scaled)\n",
    "\n",
    "# Explained variance\n",
    "print(\"Explained variance ratio:\", pca.explained_variance_ratio_)\n",
    "\n",
    "# Plot PCA\n",
    "plt.figure(figsize=(8,6))\n",
    "for target, color in zip([0,1,2], ['red','green','blue']):\n",
    "    plt.scatter(X_pca[y == target, 0], X_pca[y == target, 1], label=target_names[target], alpha=0.7, c=color)\n",
    "plt.xlabel(\"Principal Component 1\")\n",
    "plt.ylabel(\"Principal Component 2\")\n",
    "plt.title(\"PCA of Iris Dataset\")\n",
    "plt.legend()\n",
    "plt.show()"
   ]
  },
  {
   "cell_type": "markdown",
   "id": "20c13579",
   "metadata": {},
   "source": [
    "## Reflection\n",
    "PCA helped reduce the **4D feature space** of the Iris dataset into **2 dimensions**  \n",
    "while still retaining most of the variance.  \n",
    "This makes data easier to visualize and understand, which is essential in AI/ML workflows.  "
   ]
  }
 ],
 "metadata": {},
 "nbformat": 4,
 "nbformat_minor": 5
}