{
 "cells": [
  {
   "cell_type": "markdown",
   "id": "e84afc1e",
   "metadata": {},
   "source": [
    "# Google AI Essentials - Project Notebook\n",
    "This notebook reflects my learnings from the **Google AI Essentials (Coursera)** course.  \n",
    "The course introduced the fundamentals of Artificial Intelligence, practical applications, and responsible AI practices.  \n",
    "\n",
    "## Key Learnings\n",
    "- Understanding what AI is and where it is used.  \n",
    "- Basics of Machine Learning models.  \n",
    "- Exploring productivity with AI tools.  \n",
    "- Responsible AI: fairness, bias, and transparency.  \n",
    "\n",
    "In this project, I demonstrate a simple Machine Learning workflow using the Iris dataset."
   ]
  },
  {
   "cell_type": "code",
   "execution_count": null,
   "id": "46c73b81",
   "metadata": {},
   "outputs": [],
   "source": [
    "# Import required libraries\n",
    "import numpy as np\n",
    "import pandas as pd\n",
    "from sklearn.datasets import load_iris\n",
    "from sklearn.model_selection import train_test_split\n",
    "from sklearn.linear_model import LogisticRegression\n",
    "from sklearn.metrics import accuracy_score, classification_report\n",
    "\n",
    "# Load dataset\n",
    "iris = load_iris()\n",
    "X = iris.data\n",
    "y = iris.target\n",
    "\n",
    "# Split data\n",
    "X_train, X_test, y_train, y_test = train_test_split(X, y, test_size=0.3, random_state=42)\n",
    "\n",
    "# Train model\n",
    "model = LogisticRegression(max_iter=200)\n",
    "model.fit(X_train, y_train)\n",
    "\n",
    "# Predictions\n",
    "y_pred = model.predict(X_test)\n",
    "\n",
    "# Accuracy\n",
    "print(\"Accuracy:\", accuracy_score(y_test, y_pred))\n",
    "print(\"\\nClassification Report:\\n\", classification_report(y_test, y_pred))"
   ]
  },
  {
   "cell_type": "markdown",
   "id": "1e385678",
   "metadata": {},
   "source": [
    "## Reflection on Responsible AI\n",
    "During the course, I learned that while AI provides great opportunities,  \n",
    "it must be developed responsibly.  \n",
    "Key principles include:\n",
    "- **Fairness**: Avoid bias in data and models.  \n",
    "- **Transparency**: Make AI decisions understandable.  \n",
    "- **Accountability**: Humans remain responsible for AI outcomes.  "
   ]
  }
 ],
 "metadata": {},
 "nbformat": 4,
 "nbformat_minor": 5
}