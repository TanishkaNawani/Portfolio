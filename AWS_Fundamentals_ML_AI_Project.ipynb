{
 "cells": [
  {
   "cell_type": "markdown",
   "id": "5405d8a5",
   "metadata": {},
   "source": [
    "# AWS Fundamentals of Machine Learning & Artificial Intelligence - Project Notebook\n",
    "This notebook demonstrates my learnings from the **AWS Fundamentals of ML & AI (Coursera)** course.  \n",
    "\n",
    "## Key Learnings\n",
    "- Difference between **Supervised and Unsupervised Learning**.  \n",
    "- Basics of **Neural Networks**.  \n",
    "- ML workflow: data → training → evaluation → prediction.  \n",
    "- Use of AWS cloud services in real-world ML projects.  \n",
    "\n",
    "Here, I implement a Decision Tree classifier on the Iris dataset and visualize results."
   ]
  },
  {
   "cell_type": "code",
   "execution_count": null,
   "id": "9dfe87a9",
   "metadata": {},
   "outputs": [],
   "source": [
    "# Import libraries\n",
    "import numpy as np\n",
    "import pandas as pd\n",
    "import matplotlib.pyplot as plt\n",
    "import seaborn as sns\n",
    "from sklearn.datasets import load_iris\n",
    "from sklearn.model_selection import train_test_split\n",
    "from sklearn.tree import DecisionTreeClassifier\n",
    "from sklearn.metrics import confusion_matrix, accuracy_score\n",
    "\n",
    "# Load dataset\n",
    "iris = load_iris()\n",
    "X = iris.data\n",
    "y = iris.target\n",
    "\n",
    "# Split data\n",
    "X_train, X_test, y_train, y_test = train_test_split(X, y, test_size=0.3, random_state=42)\n",
    "\n",
    "# Train model\n",
    "dt_model = DecisionTreeClassifier(max_depth=3, random_state=42)\n",
    "dt_model.fit(X_train, y_train)\n",
    "\n",
    "# Predictions\n",
    "y_pred = dt_model.predict(X_test)\n",
    "\n",
    "# Accuracy\n",
    "print(\"Accuracy:\", accuracy_score(y_test, y_pred))\n",
    "\n",
    "# Confusion Matrix\n",
    "cm = confusion_matrix(y_test, y_pred)\n",
    "\n",
    "# Plot confusion matrix\n",
    "plt.figure(figsize=(6,4))\n",
    "sns.heatmap(cm, annot=True, cmap=\"Blues\", xticklabels=iris.target_names, yticklabels=iris.target_names)\n",
    "plt.xlabel(\"Predicted\")\n",
    "plt.ylabel(\"True\")\n",
    "plt.title(\"Confusion Matrix - Decision Tree on Iris Dataset\")\n",
    "plt.show()"
   ]
  },
  {
   "cell_type": "markdown",
   "id": "d934d1b7",
   "metadata": {},
   "source": [
    "## Reflection\n",
    "This project reflects the **ML workflow** I studied in the AWS course:  \n",
    "- **Data preparation**  \n",
    "- **Model training**  \n",
    "- **Evaluation**  \n",
    "- **Prediction**  \n",
    "\n",
    "It also shows how cloud-based ML platforms like AWS can help scale these workflows for real-world applications.  "
   ]
  }
 ],
 "metadata": {},
 "nbformat": 4,
 "nbformat_minor": 5
}